{
 "cells": [
  {
   "cell_type": "code",
   "execution_count": 12,
   "metadata": {},
   "outputs": [],
   "source": [
    "# Data Wrangling & Other General Use\n",
    "import pandas as pd\n",
    "import time\n",
    "\n",
    "# For debugging\n",
    "from icecream import ic\n",
    "ic.configureOutput(prefix = 'Debug | ')\n",
    "\n",
    "start = time.time()"
   ]
  },
  {
   "cell_type": "code",
   "execution_count": 13,
   "metadata": {},
   "outputs": [
    {
     "data": {
      "text/html": [
       "<div>\n",
       "<style scoped>\n",
       "    .dataframe tbody tr th:only-of-type {\n",
       "        vertical-align: middle;\n",
       "    }\n",
       "\n",
       "    .dataframe tbody tr th {\n",
       "        vertical-align: top;\n",
       "    }\n",
       "\n",
       "    .dataframe thead th {\n",
       "        text-align: right;\n",
       "    }\n",
       "</style>\n",
       "<table border=\"1\" class=\"dataframe\">\n",
       "  <thead>\n",
       "    <tr style=\"text-align: right;\">\n",
       "      <th></th>\n",
       "      <th>ResultsVersion</th>\n",
       "      <th>ResultsDate</th>\n",
       "      <th>Company</th>\n",
       "      <th>Location</th>\n",
       "      <th>Position</th>\n",
       "      <th>PostingDate</th>\n",
       "      <th>FullDetailsURL</th>\n",
       "      <th>AllQualifications</th>\n",
       "      <th>Applicants</th>\n",
       "      <th>Employment type</th>\n",
       "      <th>Industries</th>\n",
       "      <th>Job function</th>\n",
       "      <th>Seniority level</th>\n",
       "    </tr>\n",
       "  </thead>\n",
       "  <tbody>\n",
       "    <tr>\n",
       "      <th>0</th>\n",
       "      <td>1</td>\n",
       "      <td>30/07/2021 14h</td>\n",
       "      <td>McKinsey &amp; Company</td>\n",
       "      <td>Lisbon, Lisbon, Portugal</td>\n",
       "      <td>Data Scientist</td>\n",
       "      <td>2021-07-17</td>\n",
       "      <td>https://linkedin.com/jobs/view/data-scientist-...</td>\n",
       "      <td>['Master’s degree in a quantitative field like...</td>\n",
       "      <td>41 applicants</td>\n",
       "      <td>Full-time</td>\n",
       "      <td>Automotive, Aviation &amp; Aerospace, and Manageme...</td>\n",
       "      <td>Consulting, Information Technology, and Marketing</td>\n",
       "      <td>Associate</td>\n",
       "    </tr>\n",
       "    <tr>\n",
       "      <th>1</th>\n",
       "      <td>1</td>\n",
       "      <td>30/07/2021 14h</td>\n",
       "      <td>Siemens</td>\n",
       "      <td>Lisbon, Lisbon, Portugal</td>\n",
       "      <td>Data Scientist (m/f/d)</td>\n",
       "      <td>2021-07-03</td>\n",
       "      <td>https://linkedin.com/jobs/view/data-scientist-...</td>\n",
       "      <td>['Work with large, complex data sets and apply...</td>\n",
       "      <td>Be among the first 25 applicants</td>\n",
       "      <td>Full-time</td>\n",
       "      <td>Electrical/Electronic Manufacturing</td>\n",
       "      <td>Information Technology</td>\n",
       "      <td>Mid-Senior level</td>\n",
       "    </tr>\n",
       "    <tr>\n",
       "      <th>2</th>\n",
       "      <td>1</td>\n",
       "      <td>30/07/2021 14h</td>\n",
       "      <td>BOLD by Devoteam</td>\n",
       "      <td>Lisbon, Portugal</td>\n",
       "      <td>Data Scientist</td>\n",
       "      <td>2021-07-30</td>\n",
       "      <td>https://linkedin.com/jobs/view/data-scientist-...</td>\n",
       "      <td>['Bachelor’s degree in the IT area or equivale...</td>\n",
       "      <td>29 applicants</td>\n",
       "      <td>Full-time</td>\n",
       "      <td>Information Technology and Services</td>\n",
       "      <td>Engineering and Information Technology</td>\n",
       "      <td>Entry level</td>\n",
       "    </tr>\n",
       "    <tr>\n",
       "      <th>3</th>\n",
       "      <td>1</td>\n",
       "      <td>30/07/2021 14h</td>\n",
       "      <td>PandaDoc</td>\n",
       "      <td>Lisbon, Lisbon, Portugal</td>\n",
       "      <td>Senior Data Scientist (Lisbon)</td>\n",
       "      <td>2021-07-22</td>\n",
       "      <td>https://linkedin.com/jobs/view/senior-data-sci...</td>\n",
       "      <td>['Lead, architect, and develop multiple projec...</td>\n",
       "      <td>Be among the first 25 applicants</td>\n",
       "      <td>Full-time</td>\n",
       "      <td>Information Technology and Services, Computer ...</td>\n",
       "      <td>Engineering and Information Technology</td>\n",
       "      <td>Associate</td>\n",
       "    </tr>\n",
       "    <tr>\n",
       "      <th>4</th>\n",
       "      <td>1</td>\n",
       "      <td>30/07/2021 14h</td>\n",
       "      <td>CASAFARI</td>\n",
       "      <td>Lisbon, Portugal</td>\n",
       "      <td>Product Data Scientist</td>\n",
       "      <td>2021-07-16</td>\n",
       "      <td>https://linkedin.com/jobs/view/product-data-sc...</td>\n",
       "      <td>['Similarity Search: Duplicate listing detecti...</td>\n",
       "      <td>56 applicants</td>\n",
       "      <td>Full-time</td>\n",
       "      <td>NaN</td>\n",
       "      <td>NaN</td>\n",
       "      <td>NaN</td>\n",
       "    </tr>\n",
       "  </tbody>\n",
       "</table>\n",
       "</div>"
      ],
      "text/plain": [
       "   ResultsVersion     ResultsDate             Company  \\\n",
       "0               1  30/07/2021 14h  McKinsey & Company   \n",
       "1               1  30/07/2021 14h             Siemens   \n",
       "2               1  30/07/2021 14h    BOLD by Devoteam   \n",
       "3               1  30/07/2021 14h            PandaDoc   \n",
       "4               1  30/07/2021 14h            CASAFARI   \n",
       "\n",
       "                   Location                        Position PostingDate  \\\n",
       "0  Lisbon, Lisbon, Portugal                  Data Scientist  2021-07-17   \n",
       "1  Lisbon, Lisbon, Portugal          Data Scientist (m/f/d)  2021-07-03   \n",
       "2          Lisbon, Portugal                  Data Scientist  2021-07-30   \n",
       "3  Lisbon, Lisbon, Portugal  Senior Data Scientist (Lisbon)  2021-07-22   \n",
       "4          Lisbon, Portugal          Product Data Scientist  2021-07-16   \n",
       "\n",
       "                                      FullDetailsURL  \\\n",
       "0  https://linkedin.com/jobs/view/data-scientist-...   \n",
       "1  https://linkedin.com/jobs/view/data-scientist-...   \n",
       "2  https://linkedin.com/jobs/view/data-scientist-...   \n",
       "3  https://linkedin.com/jobs/view/senior-data-sci...   \n",
       "4  https://linkedin.com/jobs/view/product-data-sc...   \n",
       "\n",
       "                                   AllQualifications  \\\n",
       "0  ['Master’s degree in a quantitative field like...   \n",
       "1  ['Work with large, complex data sets and apply...   \n",
       "2  ['Bachelor’s degree in the IT area or equivale...   \n",
       "3  ['Lead, architect, and develop multiple projec...   \n",
       "4  ['Similarity Search: Duplicate listing detecti...   \n",
       "\n",
       "                         Applicants Employment type  \\\n",
       "0                     41 applicants       Full-time   \n",
       "1  Be among the first 25 applicants       Full-time   \n",
       "2                     29 applicants       Full-time   \n",
       "3  Be among the first 25 applicants       Full-time   \n",
       "4                     56 applicants       Full-time   \n",
       "\n",
       "                                          Industries  \\\n",
       "0  Automotive, Aviation & Aerospace, and Manageme...   \n",
       "1                Electrical/Electronic Manufacturing   \n",
       "2                Information Technology and Services   \n",
       "3  Information Technology and Services, Computer ...   \n",
       "4                                                NaN   \n",
       "\n",
       "                                        Job function   Seniority level  \n",
       "0  Consulting, Information Technology, and Marketing         Associate  \n",
       "1                             Information Technology  Mid-Senior level  \n",
       "2             Engineering and Information Technology       Entry level  \n",
       "3             Engineering and Information Technology         Associate  \n",
       "4                                                NaN               NaN  "
      ]
     },
     "execution_count": 13,
     "metadata": {},
     "output_type": "execute_result"
    }
   ],
   "source": [
    "df = pd.read_csv('FullInfoDataframe.csv')\n",
    "df.head()"
   ]
  },
  {
   "cell_type": "markdown",
   "metadata": {},
   "source": [
    "### Understanding the different number of jobs between runs"
   ]
  },
  {
   "cell_type": "code",
   "execution_count": 14,
   "metadata": {},
   "outputs": [
    {
     "data": {
      "text/plain": [
       "array(['30/07/2021 14h', '30/07/2021 15h'], dtype=object)"
      ]
     },
     "execution_count": 14,
     "metadata": {},
     "output_type": "execute_result"
    }
   ],
   "source": [
    "df['ResultsDate'].unique()"
   ]
  },
  {
   "cell_type": "code",
   "execution_count": 15,
   "metadata": {},
   "outputs": [],
   "source": [
    "df1 = df[df['ResultsVersion'] == 1]\n",
    "df2 = df[df['ResultsVersion'] == 2]"
   ]
  },
  {
   "cell_type": "code",
   "execution_count": 16,
   "metadata": {},
   "outputs": [
    {
     "data": {
      "text/plain": [
       "['https://linkedin.com/jobs/view/oferta-de-emprego-data-scientist-at-boost-it-2662534750',\n",
       " 'https://linkedin.com/jobs/view/an%C3%BAncio-de-emprego-data-scientist-s-at-kcs-it-2662522609']"
      ]
     },
     "execution_count": 16,
     "metadata": {},
     "output_type": "execute_result"
    }
   ],
   "source": [
    "[job for job in df2['FullDetailsURL'].unique() if job not in df1['FullDetailsURL'].unique()]"
   ]
  },
  {
   "cell_type": "code",
   "execution_count": 17,
   "metadata": {},
   "outputs": [
    {
     "data": {
      "text/plain": [
       "[]"
      ]
     },
     "execution_count": 17,
     "metadata": {},
     "output_type": "execute_result"
    }
   ],
   "source": [
    "[job for job in df1['FullDetailsURL'].unique() if job not in df2['FullDetailsURL'].unique()]"
   ]
  },
  {
   "cell_type": "code",
   "execution_count": null,
   "metadata": {},
   "outputs": [],
   "source": []
  },
  {
   "cell_type": "markdown",
   "metadata": {},
   "source": [
    "### Understanding why do we have errors in Qualifications for so many jobs "
   ]
  },
  {
   "cell_type": "code",
   "execution_count": 11,
   "metadata": {},
   "outputs": [],
   "source": [
    "df_full = df[df['ResultsVersion'] == 2].reset_index(drop = True)\n",
    "df_full['ResultsVersion'] = 1\n",
    "\n",
    "df_full.to_csv('FullInfoDataframe.csv',\n",
    "               index = False,\n",
    "               encoding = 'utf-8-sig')"
   ]
  },
  {
   "cell_type": "markdown",
   "metadata": {},
   "source": [
    "Tasks:\n",
    "* Understand different number of jobs\n",
    "* Understand why do we have errors in Qualifications for so many jobs\n",
    "\n",
    "\n",
    "Three new problems in Data Extraction:\n",
    "1. Browser not always opens without issues - problem may have something to do with the cookies failure"
   ]
  }
 ],
 "metadata": {
  "kernelspec": {
   "display_name": "Python 3",
   "language": "python",
   "name": "python3"
  },
  "language_info": {
   "codemirror_mode": {
    "name": "ipython",
    "version": 3
   },
   "file_extension": ".py",
   "mimetype": "text/x-python",
   "name": "python",
   "nbconvert_exporter": "python",
   "pygments_lexer": "ipython3",
   "version": "3.8.5"
  }
 },
 "nbformat": 4,
 "nbformat_minor": 4
}
