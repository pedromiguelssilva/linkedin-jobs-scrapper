{
 "cells": [
  {
   "cell_type": "code",
   "execution_count": 10,
   "metadata": {},
   "outputs": [],
   "source": [
    "# Data Wrangling & Other General Use\n",
    "import pandas as pd\n",
    "\n",
    "# For handling files\n",
    "import os\n",
    "from os.path import isfile, join, splitext"
   ]
  },
  {
   "cell_type": "code",
   "execution_count": 12,
   "metadata": {},
   "outputs": [
    {
     "name": "stdout",
     "output_type": "stream",
     "text": [
      "Run1.csv\n",
      "97\n"
     ]
    }
   ],
   "source": [
    "working_path = os.getcwd()\n",
    "\n",
    "# Listing all csv files\n",
    "csv_files = [file for file in os.listdir(working_path) \\\n",
    "             if isfile(join(working_path, file)) \\\n",
    "             and splitext(join(working_path, file))[1] == '.csv']\n",
    "\n",
    "csv_temp_files = [file for file in csv_files if file.startswith('Run')]\n",
    "\n",
    "full_df = pd.DataFrame()\n",
    "for csv in csv_temp_files:\n",
    "    print(csv)\n",
    "    df = pd.read_csv(csv) \n",
    "    full_df = full_df.append(df)\n",
    "\n",
    "\n",
    "print(len(full_df))"
   ]
  },
  {
   "cell_type": "code",
   "execution_count": null,
   "metadata": {},
   "outputs": [],
   "source": []
  },
  {
   "cell_type": "markdown",
   "metadata": {},
   "source": [
    "A fazer:\n",
    "* Juntar os 3 dataframes reunidos no notebook 01. DataExtraction e retirar os uniques\n",
    "* Filtrar apenas os que contêm \"Data Scientist\" no título"
   ]
  },
  {
   "cell_type": "code",
   "execution_count": null,
   "metadata": {},
   "outputs": [],
   "source": []
  }
 ],
 "metadata": {
  "kernelspec": {
   "display_name": "Python 3",
   "language": "python",
   "name": "python3"
  },
  "language_info": {
   "codemirror_mode": {
    "name": "ipython",
    "version": 3
   },
   "file_extension": ".py",
   "mimetype": "text/x-python",
   "name": "python",
   "nbconvert_exporter": "python",
   "pygments_lexer": "ipython3",
   "version": "3.8.5"
  }
 },
 "nbformat": 4,
 "nbformat_minor": 4
}
